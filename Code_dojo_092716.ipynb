{
 "cells": [
  {
   "cell_type": "code",
   "execution_count": 22,
   "metadata": {
    "collapsed": false
   },
   "outputs": [],
   "source": [
    "# clunky solution that times out on larger sets\n",
    "\n",
    "def pairs(n, k, input_set):\n",
    "    counter = 0\n",
    "    for index_i, i in enumerate(input_set):\n",
    "        for j in input_set[index_i:]:\n",
    "            if abs(i-j) == k:\n",
    "                counter += 1\n",
    "    return counter\n",
    "        "
   ]
  },
  {
   "cell_type": "code",
   "execution_count": 25,
   "metadata": {
    "collapsed": false
   },
   "outputs": [],
   "source": [
    "# slightly less clunky solution that still times out on very large sets\n",
    "def pairs_faster(n, k, input_set):\n",
    "    input_set = sorted(input_set)\n",
    "    counter = 0\n",
    "    for index_i, i in enumerate(input_set):\n",
    "        for j in input_set[index_i:]:\n",
    "            if abs(i-j) == k:\n",
    "                counter += 1\n",
    "                break\n",
    "            elif abs(i-j) > k:\n",
    "                break          \n",
    "    return counter\n",
    "            \n",
    "            \n",
    "    \n",
    "    "
   ]
  }
 ],
 "metadata": {
  "kernelspec": {
   "display_name": "Python 2",
   "language": "python",
   "name": "python2"
  },
  "language_info": {
   "codemirror_mode": {
    "name": "ipython",
    "version": 2
   },
   "file_extension": ".py",
   "mimetype": "text/x-python",
   "name": "python",
   "nbconvert_exporter": "python",
   "pygments_lexer": "ipython2",
   "version": "2.7.10"
  }
 },
 "nbformat": 4,
 "nbformat_minor": 0
}
